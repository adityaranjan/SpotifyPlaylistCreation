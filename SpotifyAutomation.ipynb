{
 "cells": [
  {
   "cell_type": "markdown",
   "metadata": {},
   "source": [
    "# Automated Spotify Playlist Creation\n",
    "### Author: Aditya Ranjan <br>\n",
    "---\n",
    "<br> <a rel=\"license\" href=\"http://creativecommons.org/licenses/by-nc/4.0/\"><img alt=\"Creative Commons License\" style=\"border-width:0\" src=\"https://i.creativecommons.org/l/by-nc/4.0/80x15.png\" /></a><br />This work is licensed under a <a rel=\"license\" href=\"http://creativecommons.org/licenses/by-nc/4.0/\">Creative Commons Attribution-NonCommercial 4.0 International License</a>."
   ]
  },
  {
   "cell_type": "markdown",
   "metadata": {},
   "source": [
    "## 1. The Idea\n",
    "Always discovering new music on Spotify, I once came across an interesting website - <https://obscurifymusic.com> <br><br>\n",
    "This website not only allowed me to see my top artists and songs, but also showed me how danceable and energetic my music was. This sparked my curiosity and I wondered whether it would be possible to create a playlist with the 25 most danceable songs from my library.<br><br>\n",
    "Soon enough, I thought that instead of manually creating playlists and adding songs (which would have been mind-numbingly boring) and calculating their several features (which are not directly visible on Spotify), I could just write some code for it.<br>\n",
    "### Essential Libraries"
   ]
  },
  {
   "cell_type": "code",
   "execution_count": null,
   "metadata": {},
   "outputs": [],
   "source": [
    "#Import essential libraries\n",
    "import spotipy\n",
    "import pandas as pd\n",
    "from tqdm import tqdm\n",
    "import matplotlib.pyplot as plt"
   ]
  },
  {
   "cell_type": "markdown",
   "metadata": {},
   "source": [
    "- Spotipy is a Python library for the Spotify Web API. This library is what I used for accessing my songs, their features, and creating the playlists. <https://spotipy.readthedocs.io/en/2.13.0/>\n",
    "- Pandas is an extremely useful tool for reading table data and can also be used for tasks such as data analysis.\n",
    "- I use tqdm to show the progress for certain loops/processes.\n",
    "- Matplotlib allows me to visualize the distribution of features such as danceability, energy, etc.\n",
    "\n",
    "### Authentication Information"
   ]
  },
  {
   "cell_type": "code",
   "execution_count": null,
   "metadata": {},
   "outputs": [],
   "source": [
    "#Variables to store authentication information    \n",
    "userid = \"Your User ID\"\n",
    "username = \"Your Username\"\n",
    "scope = \"user-library-read playlist-modify-private playlist-read-private playlist-modify-public\"\n",
    "clientID = \"Your Client ID\"\n",
    "clientSecret = \"Your Client Secret\"\n",
    "redirectURL = \"http://google.com/\""
   ]
  },
  {
   "cell_type": "markdown",
   "metadata": {},
   "source": [
    "- How to get your User ID -> Click on your Spotify profile -> Click on the three dots -> Click on Share -> Click on Copy Profile Link -> Your User ID is at the end of the code you copied.\n",
    "- Your Username is what you use to log into Spotify.\n",
    "- You can use different scopes based on your needs -<https://developer.spotify.com/documentation/general/guides/scopes/>\n",
    "- <https://developer.spotify.com/dashboard/login> Visit this link and after creating an app, you can see your Client ID and Client Secret. This is sensitive information, so be careful with it!\n",
    "- You can use a different redirect url if you wish to, but <http://google.com> works just fine.\n",
    "\n",
    "### Authentication"
   ]
  },
  {
   "cell_type": "code",
   "execution_count": null,
   "metadata": {},
   "outputs": [],
   "source": [
    "#Authentication code\n",
    "token = spotipy.util.prompt_for_user_token(userid, scope, clientID, clientSecret, redirectURL)\n",
    "sp = spotipy.Spotify(auth = token)"
   ]
  },
  {
   "cell_type": "markdown",
   "metadata": {},
   "source": [
    "I cleared the output for the above cell, but after running this code, it will redirect you to a page where you have to click Agree to access your music, and then it will redirect you to your redirect url with a code at the end of the url. Copy the entire URL and paste it here where it will ask you to. After this, you can proceed ahead with your code.\n",
    "\n",
    "### Accessing My Music"
   ]
  },
  {
   "cell_type": "code",
   "execution_count": null,
   "metadata": {},
   "outputs": [],
   "source": [
    "#Function to get ids of all my liked songs\n",
    "def getAllIDs():\n",
    "    results = sp.current_user_saved_tracks() #all of my liked songs\n",
    "    ids = [item[\"track\"][\"id\"] for item in results[\"items\"]]\n",
    "\n",
    "    #Scrolls through the paginated results (gets all of my liked songs, not just the first 100)\n",
    "    while results[\"next\"]:\n",
    "        results = sp.next(results)\n",
    "        ids.extend(item[\"track\"][\"id\"] for item in results[\"items\"])\n",
    "\n",
    "    return ids"
   ]
  },
  {
   "cell_type": "markdown",
   "metadata": {},
   "source": [
    "The above function extracts the unique ids for all of my liked songs."
   ]
  },
  {
   "cell_type": "code",
   "execution_count": null,
   "metadata": {},
   "outputs": [],
   "source": [
    "#Function to extract features from a list of track ids and create a Pandas DataFrame out of them\n",
    "def getTracksDF(ids):\n",
    "    tracksDict = {\"ID\": [], \"Name\": [], \"Artist\": [], \"Album\": [], \"Release Year\": [], \"Duration (sec)\": [],\n",
    "                  \"Danceability\": [], \"Acousticness\": [], \"Energy\": [], \"Instrumentalness\": [], \"Liveness\": [],\n",
    "                  \"Loudness\": [], \"Speechiness\": [], \"Valence\": []}\n",
    "\n",
    "    for currID in tqdm(ids):\n",
    "        info, features, trackDict = sp.track(currID), sp.audio_features(currID)[0], {}\n",
    "        tracksDict[\"ID\"].append(currID)\n",
    "        \n",
    "        tracksDict[\"Name\"].append(info[\"name\"])\n",
    "        tracksDict[\"Artist\"].append(info[\"album\"][\"artists\"][0][\"name\"])\n",
    "        tracksDict[\"Album\"].append(info[\"album\"][\"name\"])\n",
    "        tracksDict[\"Release Year\"].append(int(info[\"album\"][\"release_date\"][0 : 4]))\n",
    "\n",
    "        tracksDict[\"Duration (sec)\"].append(features[\"duration_ms\"] / 1000)\n",
    "        tracksDict[\"Danceability\"].append(features[\"danceability\"])\n",
    "        tracksDict[\"Acousticness\"].append(features[\"acousticness\"])\n",
    "        tracksDict[\"Energy\"].append(features[\"energy\"])\n",
    "        tracksDict[\"Instrumentalness\"].append(features[\"instrumentalness\"])\n",
    "        tracksDict[\"Liveness\"].append(features[\"liveness\"])\n",
    "        tracksDict[\"Loudness\"].append(features[\"loudness\"])\n",
    "        tracksDict[\"Speechiness\"].append(features[\"speechiness\"])\n",
    "        tracksDict[\"Valence\"].append(features[\"valence\"])\n",
    "        \n",
    "    allTracks = pd.DataFrame(tracksDict)\n",
    "\n",
    "    return allTracks"
   ]
  },
  {
   "cell_type": "markdown",
   "metadata": {},
   "source": [
    "The above function takes a list of song ids (all of my liked songs in this case) and creates a Pandas DataFrame with all of their features and attributes."
   ]
  },
  {
   "cell_type": "code",
   "execution_count": null,
   "metadata": {},
   "outputs": [],
   "source": [
    "#Returns a DataFrame of all my liked songs and their features\n",
    "allTracks = getTracksDF(getAllIDs())"
   ]
  },
  {
   "cell_type": "markdown",
   "metadata": {},
   "source": [
    "Now I have all of my liked songs and their individual features in one DataFrame, which I can convert to a CSV file for future use."
   ]
  },
  {
   "cell_type": "code",
   "execution_count": null,
   "metadata": {},
   "outputs": [],
   "source": [
    "#Converts the allTracks DataFrame to a CSV file\n",
    "allTracks.to_csv(\"AdiSpotifyLibrary.csv\", index = False)"
   ]
  },
  {
   "cell_type": "code",
   "execution_count": null,
   "metadata": {},
   "outputs": [],
   "source": [
    "#Moves the CSV file to my data folder\n",
    "mv ~/AdiJupyterNotebook/AdiSpotifyLibrary.csv ~/AdiJupyterNotebook/AdiJupyterData/AdiSpotifyLibrary.csv"
   ]
  },
  {
   "cell_type": "markdown",
   "metadata": {},
   "source": [
    "With a CSV of all of my liked songs and their features created, I can now read from that CSV file to analyze some features and create playlists!\n",
    "\n",
    "### Basic Visualization"
   ]
  },
  {
   "cell_type": "code",
   "execution_count": 5,
   "metadata": {},
   "outputs": [
    {
     "data": {
      "text/html": [
       "<div>\n",
       "<style scoped>\n",
       "    .dataframe tbody tr th:only-of-type {\n",
       "        vertical-align: middle;\n",
       "    }\n",
       "\n",
       "    .dataframe tbody tr th {\n",
       "        vertical-align: top;\n",
       "    }\n",
       "\n",
       "    .dataframe thead th {\n",
       "        text-align: right;\n",
       "    }\n",
       "</style>\n",
       "<table border=\"1\" class=\"dataframe\">\n",
       "  <thead>\n",
       "    <tr style=\"text-align: right;\">\n",
       "      <th></th>\n",
       "      <th>ID</th>\n",
       "      <th>Name</th>\n",
       "      <th>Artist</th>\n",
       "      <th>Album</th>\n",
       "      <th>Release Year</th>\n",
       "      <th>Duration (sec)</th>\n",
       "      <th>Danceability</th>\n",
       "      <th>Acousticness</th>\n",
       "      <th>Energy</th>\n",
       "      <th>Instrumentalness</th>\n",
       "      <th>Liveness</th>\n",
       "      <th>Loudness</th>\n",
       "      <th>Speechiness</th>\n",
       "      <th>Valence</th>\n",
       "    </tr>\n",
       "  </thead>\n",
       "  <tbody>\n",
       "    <tr>\n",
       "      <th>0</th>\n",
       "      <td>2p37Mfy2PWajgOS3i2aaep</td>\n",
       "      <td>U Say (feat. Tyler, The Creator &amp; Jay Prince)</td>\n",
       "      <td>GoldLink</td>\n",
       "      <td>Diaspora</td>\n",
       "      <td>2019</td>\n",
       "      <td>201.240</td>\n",
       "      <td>0.926</td>\n",
       "      <td>0.0471</td>\n",
       "      <td>0.680</td>\n",
       "      <td>0.000125</td>\n",
       "      <td>0.119</td>\n",
       "      <td>-7.689</td>\n",
       "      <td>0.1960</td>\n",
       "      <td>0.458</td>\n",
       "    </tr>\n",
       "    <tr>\n",
       "      <th>1</th>\n",
       "      <td>653ZIDwdxZnjFAGLsupKhp</td>\n",
       "      <td>Tera hoon ne laga hoon</td>\n",
       "      <td>Marana</td>\n",
       "      <td>Tera hone laga hoon</td>\n",
       "      <td>2020</td>\n",
       "      <td>298.934</td>\n",
       "      <td>0.686</td>\n",
       "      <td>0.5660</td>\n",
       "      <td>0.768</td>\n",
       "      <td>0.000000</td>\n",
       "      <td>0.132</td>\n",
       "      <td>-5.630</td>\n",
       "      <td>0.0313</td>\n",
       "      <td>0.539</td>\n",
       "    </tr>\n",
       "    <tr>\n",
       "      <th>2</th>\n",
       "      <td>52itZ0w0CydihB2JCZEIft</td>\n",
       "      <td>Pee Loon</td>\n",
       "      <td>Pritam</td>\n",
       "      <td>Once Upon A Time In Mumbaai</td>\n",
       "      <td>2010</td>\n",
       "      <td>285.687</td>\n",
       "      <td>0.656</td>\n",
       "      <td>0.2770</td>\n",
       "      <td>0.722</td>\n",
       "      <td>0.000138</td>\n",
       "      <td>0.187</td>\n",
       "      <td>-5.064</td>\n",
       "      <td>0.0364</td>\n",
       "      <td>0.883</td>\n",
       "    </tr>\n",
       "    <tr>\n",
       "      <th>3</th>\n",
       "      <td>7d0cwWnuNYEt4foaS2XdwW</td>\n",
       "      <td>Pacific Coast Highway</td>\n",
       "      <td>David Carbonara</td>\n",
       "      <td>Mad Men: On the Rocks (Music from the Televisi...</td>\n",
       "      <td>2013</td>\n",
       "      <td>94.120</td>\n",
       "      <td>0.607</td>\n",
       "      <td>0.7380</td>\n",
       "      <td>0.363</td>\n",
       "      <td>0.933000</td>\n",
       "      <td>0.118</td>\n",
       "      <td>-13.587</td>\n",
       "      <td>0.0274</td>\n",
       "      <td>0.743</td>\n",
       "    </tr>\n",
       "    <tr>\n",
       "      <th>4</th>\n",
       "      <td>6CSLNGruNhqpb5zhfs5n3i</td>\n",
       "      <td>Celebration - Single Version</td>\n",
       "      <td>Kool &amp; The Gang</td>\n",
       "      <td>Celebration / Morning Star</td>\n",
       "      <td>2009</td>\n",
       "      <td>215.653</td>\n",
       "      <td>0.843</td>\n",
       "      <td>0.0466</td>\n",
       "      <td>0.656</td>\n",
       "      <td>0.018700</td>\n",
       "      <td>0.169</td>\n",
       "      <td>-11.184</td>\n",
       "      <td>0.0595</td>\n",
       "      <td>0.931</td>\n",
       "    </tr>\n",
       "  </tbody>\n",
       "</table>\n",
       "</div>"
      ],
      "text/plain": [
       "                       ID                                           Name  \\\n",
       "0  2p37Mfy2PWajgOS3i2aaep  U Say (feat. Tyler, The Creator & Jay Prince)   \n",
       "1  653ZIDwdxZnjFAGLsupKhp                         Tera hoon ne laga hoon   \n",
       "2  52itZ0w0CydihB2JCZEIft                                       Pee Loon   \n",
       "3  7d0cwWnuNYEt4foaS2XdwW                          Pacific Coast Highway   \n",
       "4  6CSLNGruNhqpb5zhfs5n3i                   Celebration - Single Version   \n",
       "\n",
       "            Artist                                              Album  \\\n",
       "0         GoldLink                                           Diaspora   \n",
       "1           Marana                                Tera hone laga hoon   \n",
       "2           Pritam                        Once Upon A Time In Mumbaai   \n",
       "3  David Carbonara  Mad Men: On the Rocks (Music from the Televisi...   \n",
       "4  Kool & The Gang                         Celebration / Morning Star   \n",
       "\n",
       "   Release Year  Duration (sec)  Danceability  Acousticness  Energy  \\\n",
       "0          2019         201.240         0.926        0.0471   0.680   \n",
       "1          2020         298.934         0.686        0.5660   0.768   \n",
       "2          2010         285.687         0.656        0.2770   0.722   \n",
       "3          2013          94.120         0.607        0.7380   0.363   \n",
       "4          2009         215.653         0.843        0.0466   0.656   \n",
       "\n",
       "   Instrumentalness  Liveness  Loudness  Speechiness  Valence  \n",
       "0          0.000125     0.119    -7.689       0.1960    0.458  \n",
       "1          0.000000     0.132    -5.630       0.0313    0.539  \n",
       "2          0.000138     0.187    -5.064       0.0364    0.883  \n",
       "3          0.933000     0.118   -13.587       0.0274    0.743  \n",
       "4          0.018700     0.169   -11.184       0.0595    0.931  "
      ]
     },
     "execution_count": 5,
     "metadata": {},
     "output_type": "execute_result"
    }
   ],
   "source": [
    "#Opens the CSV file and stores it in a Pandas DataFrame\n",
    "allTracks = pd.read_csv(\"AdiJupyterData/AdiSpotifyLibrary.csv\")\n",
    "allTracks.head() #first 5 rows of the DataFrame"
   ]
  },
  {
   "cell_type": "code",
   "execution_count": null,
   "metadata": {},
   "outputs": [],
   "source": [
    "#List of all my tracks' ids\n",
    "ids = list(allTracks[\"ID\"])"
   ]
  },
  {
   "cell_type": "markdown",
   "metadata": {},
   "source": [
    "With all of the ids in a list, I can now move on to some basic visualization. I will only be plotting histograms for a few numerical features right now as my current goal is to generate feature based playlists. In the future, I plan to perform some more in-depth analysis where the goal will be to analyze relationships between different variables, not just create feature based playlists.\n",
    "\n",
    "### Distributions of Numerical Features"
   ]
  },
  {
   "cell_type": "code",
   "execution_count": 17,
   "metadata": {},
   "outputs": [
    {
     "data": {
      "image/png": "[encoded data removed]",
      "text/plain": [
       "<Figure size 1152x1800 with 10 Axes>"
      ]
     },
     "metadata": {},
     "output_type": "display_data"
    }
   ],
   "source": [
    "#List of features to plot\n",
    "keysToPlot, keyNum = list(allTracks.columns[4:]), 0\n",
    "\n",
    "#Figure size\n",
    "plt.rcParams[\"figure.figsize\"] = (16, 25)\n",
    "\n",
    "#Plots a histogram of each feature in keysToPlot\n",
    "for i in range(5):\n",
    "    for j in range(2):\n",
    "        plt.subplot2grid((5, 2), (i, j))\n",
    "        plt.xlabel(keysToPlot[keyNum])\n",
    "        plt.ylabel(\"Frequency\")\n",
    "        plt.hist(allTracks[keysToPlot[keyNum]])\n",
    "        keyNum += 1\n",
    "        \n",
    "plt.show()"
   ]
  },
  {
   "cell_type": "markdown",
   "metadata": {},
   "source": [
    "I can now move on to creating playlists based on all of the above features except the Release Year and the Duration.\n",
    "\n",
    "### Playlist Creation"
   ]
  },
  {
   "cell_type": "code",
   "execution_count": null,
   "metadata": {},
   "outputs": [],
   "source": [
    "#Function to get the id of any playlist given its name\n",
    "def getPlaylistID(playlistName):\n",
    "    playlists = sp.user_playlists(username)\n",
    "    for playlist in playlists[\"items\"]:\n",
    "        if playlist[\"name\"] == playlistName:\n",
    "            return playlist[\"id\"]"
   ]
  },
  {
   "cell_type": "markdown",
   "metadata": {},
   "source": [
    "The above function gets the id of a playlist given the playlist name. This helps with adding songs to any playlist as the playlist id is needed."
   ]
  },
  {
   "cell_type": "code",
   "execution_count": null,
   "metadata": {},
   "outputs": [],
   "source": [
    "#Function to create 2 playlists - description of both playlists given below this cell\n",
    "def createPlaylists(playlistNames, playlistLength, feature):\n",
    "    sp.user_playlist_create(username, playlistNames[0], public = True)\n",
    "    sp.user_playlist_create(username, playlistNames[1], public = True)\n",
    "    \n",
    "    vals = list(allTracks[feature])\n",
    "    sortedVals = list(set(vals))\n",
    "    sortedVals.sort()\n",
    "    \n",
    "    lowest, highest = [], []\n",
    "    for i in range(playlistLength):\n",
    "        lowest.append(ids[vals.index(sortedVals[i])])\n",
    "        highest.append(ids[vals.index(sortedVals[len(sortedVals) - 1 - i])])\n",
    "        \n",
    "    sp.user_playlist_add_tracks(username, getPlaylistID(playlistNames[0]), lowest)\n",
    "    sp.user_playlist_add_tracks(username, getPlaylistID(playlistNames[1]), highest)"
   ]
  },
  {
   "cell_type": "markdown",
   "metadata": {},
   "source": [
    "#### What exactly is the above function doing?\n",
    "For each feature, let's say danceability, the above function creates two playlists:\n",
    "1. N songs with the most/highest of that feature (for example, the N most danceable songs)\n",
    "2. N songs with the least/lowest of that feature (for example, the N least danceable songs)\n",
    "\n",
    "N is the desired playlist length. In this case, N is 25 as that is what I set to be the playlist length (seen below)."
   ]
  },
  {
   "cell_type": "code",
   "execution_count": 20,
   "metadata": {},
   "outputs": [
    {
     "name": "stderr",
     "output_type": "stream",
     "text": [
      "100%|██████████| 8/8 [00:06<00:00,  1.24it/s]\n"
     ]
    }
   ],
   "source": [
    "#Creates 16 playlists for 8 features - 2 playlists for both the lower end and higher end of a feture\n",
    "playlistNames = [[\"25 Least Danceable Songs\", \"25 Most Danceable Songs\"],\n",
    "                 [\"25 Least Acoustic Songs\", \"25 Most Acoustic Songs\"],\n",
    "                 [\"25 Least Energetic Songs\", \"25 Most Energetic Songs\"],\n",
    "                 [\"25 Least Instrumental Songs\", \"25 Most Instrumental Songs\"],\n",
    "                 [\"25 Least Live Songs\", \"25 Most Live Songs\"],\n",
    "                 [\"25 Quietest Songs\", \"25 Loudest Songs\"],\n",
    "                 [\"25 Least Speechy Songs\", \"25 Most Speechy Songs\"],\n",
    "                 [\"25 Least Positive Songs\", \"25 Most Positive Songs\"]]\n",
    "\n",
    "playlistFeatures = [\"Danceability\", \"Acousticness\", \"Energy\", \"Instrumentalness\",\n",
    "                    \"Liveness\", \"Loudness\", \"Speechiness\", \"Valence\"]\n",
    "\n",
    "for i in tqdm(range(len(playlistNames))):\n",
    "    createPlaylists(playlistNames[i], 25, playlistFeatures[i])"
   ]
  },
  {
   "cell_type": "markdown",
   "metadata": {},
   "source": [
    "I now have all of my playlists created! I didn't have to laboriously calculate any features, create the playlists, or add songs one at at time. All I had to do was write some code!\n",
    "\n",
    "## Check the CSV out!\n",
    "https://drive.google.com/file/d/1joW2FxmVY-DIUKScM0vA-x85sfpXln2z/view?usp=sharing\n",
    "\n",
    "\n",
    "## Check the Playlists out!\n",
    "\n",
    "**Danceability:**<br>\n",
    "25 Least Danceable Songs - https://open.spotify.com/playlist/3bExcHhJVKYv9wVi2HYl7i?si=OctrG0JLQzWDwnrNHMsh3w<br>\n",
    "25 Most Danceable Songs - https://open.spotify.com/playlist/56jr6lwIGfwV0B4Avl2qHJ?si=CwnR5JZFTfex3GW53tjkMQ\n",
    "\n",
    "**Acousticness:**<br>\n",
    "25 Least Acoustic Songs - https://open.spotify.com/playlist/3PyJGxbuRvQQ2swBLW2x1Q?si=YhE1kvCCTmWnjSjeJRiZwg<br>\n",
    "25 Most Acoustic Songs - https://open.spotify.com/playlist/4bwienw9o4SbFAOYCbaOxG?si=nOffCGKNS-i3eZW9V2YrfQ\n",
    "\n",
    "**Energy:**<br>\n",
    "25 Least Energetic Songs - https://open.spotify.com/playlist/3d7g3KPgwEC3BkHap7J2ZB?si=dwUMuez9R4yJk8UazCaH_g<br>\n",
    "25 Most Energetic Songs - https://open.spotify.com/playlist/0oHuR7I6rH5arERfIL9Det?si=HDQ48a3dT0av5sxNa8mK-g\n",
    "\n",
    "**Instrumentalness:**<br>\n",
    "25 Least Instrumental Songs - https://open.spotify.com/playlist/7jaWtfzqu9vvyUm8PPGXZo?si=sBCDRoSORsiFZzl99niw1Q<br>\n",
    "25 Most Instrumental Songs - https://open.spotify.com/playlist/5yL877k4GFrv9TxQa4zZc3?si=3L0tliFeQEqrPZiFONQPOA\n",
    "\n",
    "**Liveness:**<br>\n",
    "25 Least Live Songs - https://open.spotify.com/playlist/0SXdrrVBQsHy2xpRHZbowd?si=VXswVupMQvuiYys2I-IfMw<br>\n",
    "25 Most Live Songs - https://open.spotify.com/playlist/7Aa30vE1JkEA42SjaaJj9l?si=9VT0F-HyTg6AMXE_33Eepw\n",
    "\n",
    "**Loudness:**<br>\n",
    "25 Quietest Songs - https://open.spotify.com/playlist/2w8nL6SmnLv9eL4eCbDaE6?si=1PZSewUTS8aqlA8VF7SPsQ<br>\n",
    "25 Loudest Songs -https://open.spotify.com/playlist/6eV6OUZI2kQ2GfxZAq1Jvk?si=Lk0IXJTCTQ2k-XYs_tt7yA\n",
    "\n",
    "**Speechiness:**<br>\n",
    "25 Least Speechy Songs - https://open.spotify.com/playlist/3X6G9SsD0gRPNludAZtWCC?si=hL5dzcNtRrmDo5SWN2FuuA<br>\n",
    "25 Most Speechy Songs - https://open.spotify.com/playlist/5lZPfXg0MEN1cvcSnp0ut8?si=_M5gVULPSn2u6JRnyydkvg\n",
    "\n",
    "**Valence:**<br>\n",
    "25 Least Positive Songs - https://open.spotify.com/playlist/4OsxpMcCiiE21X1Eb1ZVIk?si=QYhm7R9cSf-q3gjECfpQqA<br>\n",
    "25 Most Positive Songs - https://open.spotify.com/playlist/4XuQRfo2NtruelOHfgIdz8?si=mtIgMRnqT9av81IFFf-QDQ\n",
    "\n",
    "### Note\n",
    "All of these playlists were generated using songs from my personal library."
   ]
  },
  {
   "cell_type": "markdown",
   "metadata": {},
   "source": [
    "## What Next?\n",
    "I plan to do some more in-depth analysis in the future, like studying the relationship between different variables/features and maybe even doing some text analysis to determine the languages of the songs or the emotions/sentiments associated with them.\n",
    "\n",
    "I could also use the results from this analysis to automate the creation of other playlists based on different criteria or even follow my 50 favorite artists. There's a multitude of paths to choose from!"
   ]
  }
 ],
 "metadata": {
  "kernelspec": {
   "display_name": "Python 3",
   "language": "python",
   "name": "python3"
  },
  "language_info": {
   "codemirror_mode": {
    "name": "ipython",
    "version": 3
   },
   "file_extension": ".py",
   "mimetype": "text/x-python",
   "name": "python",
   "nbconvert_exporter": "python",
   "pygments_lexer": "ipython3",
   "version": "3.6.4"
  }
 },
 "nbformat": 4,
 "nbformat_minor": 2
}
